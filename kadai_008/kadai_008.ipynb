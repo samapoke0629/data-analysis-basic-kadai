{
  "nbformat": 4,
  "nbformat_minor": 0,
  "metadata": {
    "colab": {
      "provenance": []
    },
    "kernelspec": {
      "name": "python3",
      "display_name": "Python 3"
    },
    "language_info": {
      "name": "python"
    }
  },
  "cells": [
    {
      "cell_type": "code",
      "execution_count": 3,
      "metadata": {
        "colab": {
          "base_uri": "https://localhost:8080/"
        },
        "id": "WAKVdLXLcK7Z",
        "outputId": "72dd0671-9ff3-4bcd-8981-9361a8b09b78"
      },
      "outputs": [
        {
          "output_type": "stream",
          "name": "stdout",
          "text": [
            "(178, 13) (124, 13) (54, 13) (178,) (124,) (54,)\n"
          ]
        },
        {
          "output_type": "execute_result",
          "data": {
            "text/plain": [
              "array([0, 1, 2])"
            ]
          },
          "metadata": {},
          "execution_count": 3
        }
      ],
      "source": [
        "# 予測モデルのインポート\n",
        "from sklearn.ensemble import RandomForestClassifier\n",
        "# model = DecisionTreeClassifier(random_state=3)\n",
        "model = RandomForestClassifier(random_state=3)\n",
        "# 以下のようにrandom_stateを指定しない場合、最終的に生成される予測モデルが実行毎に異なる可能性があります。これは、モデルの評価結果や予測結果が実行毎に変わってしまう可能性があること意味します。\n",
        "# model = DecisionTreeClassifier()\n",
        "\n",
        "# Import the load_wine function from sklearn.datasets\n",
        "from sklearn.datasets import load_wine\n",
        "\n",
        "dataset = load_wine()\n",
        "dataset\n",
        "dataset.data\n",
        "dataset.feature_names\n",
        "\n",
        "import pandas as pd\n",
        "df = pd.DataFrame(data=dataset.data, columns=dataset.feature_names)\n",
        "df.head()\n",
        "dataset.target\n",
        "df['category'] = dataset.target\n",
        "df.head()\n",
        "df.shape\n",
        "X = dataset.data\n",
        "y = dataset.target\n",
        "\n",
        "from sklearn.model_selection import train_test_split\n",
        "train_test_split(X, y, test_size=0.3, random_state=5)\n",
        "# 以下のようにrandom_stateを指定しない場合、実行毎に結果が異なります。\n",
        "# train_test_split(X, y, test_size=0.3)\n",
        "X_train, X_test, y_train, y_test = train_test_split(X, y, test_size=0.3, random_state=5)\n",
        "print(X.shape, X_train.shape, X_test.shape, y.shape, y_train.shape, y_test.shape)\n",
        "\n",
        "from sklearn.ensemble import RandomForestClassifier\n",
        "# model = DecisionTreeClassifier(random_state=3)\n",
        "model = RandomForestClassifier(random_state=3)\n",
        "# 以下のようにrandom_stateを指定しない場合、最終的に生成される予測モデルが実行毎に異なる可能性があります。これは、モデルの評価結果や予測結果が実行毎に変わってしまう可能性があること意味します。\n",
        "# model = DecisionTreeClassifier()\n",
        "model.fit(X_train, y_train)\n",
        "y_pred = model.predict(X_test)\n",
        "y_pred\n",
        "y_test\n",
        "\n",
        "from sklearn.metrics import accuracy_score\n",
        "accuracy_score(y_test, y_pred)\n",
        "model.score(X_test, y_test)\n",
        "\n",
        "import numpy as np\n",
        "\n",
        "X_real = np.array([\n",
        "    [13, 1.6, 2.2, 16, 118, 2.6, 2.9, 0.21, 1.6, 5.8, 0.92, 3.2, 1011],\n",
        "    [12, 2.8, 2.2, 18, 100, 2.5, 2.3, 0.25, 2.0, 2.2, 1.15, 3.3, 1000],\n",
        "    [14, 4.1, 2.7, 24, 101, 1.6, 0.7, 0.53, 1.4, 9.4, 0.61, 1.6, 560]])\n",
        "model.predict(X_real)"
      ]
    }
  ]
}
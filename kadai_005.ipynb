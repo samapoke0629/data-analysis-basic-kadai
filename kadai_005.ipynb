{
  "cells": [
    {
      "cell_type": "code",
      "execution_count": null,
      "metadata": {
        "id": "feReK526-OIK"
      },
      "outputs": [],
      "source": [
        "# Step 1: matplotlib.pyplotとnumpyをインポート\n",
        "import matplotlib.pyplot as plt\n",
        "import numpy as np\n",
        "\n",
        "# Step 2: 6個のグラフを表示する領域を作成\n",
        "fig, axes = plt.subplots(2, 3, tight_layout=True)\n",
        "\n",
        "# Step 3: 各領域にデータを表示\n",
        "# 折れ線グラフ\n",
        "y0 = [1, 2, -5, 2]\n",
        "axes[0, 0].plot(y0)\n",
        "\n",
        "# sin関数\n",
        "x1 = np.linspace(0, 2 * np.pi, 100)\n",
        "y1 = np.sin(x1)\n",
        "axes[0, 1].plot(x1, y1)\n",
        "\n",
        "# ヒストグラム\n",
        "data2 = np.random.randn(1000)\n",
        "axes[0, 2].hist(data2, bins=30)\n",
        "\n",
        "# 散布図\n",
        "x3 = np.random.rand(100) * 10\n",
        "y3 = np.random.rand(100) * 10\n",
        "axes[1, 0].scatter(x3, y3)\n",
        "\n",
        "# Step 4: グラフを表示\n",
        "plt.show()"
      ]
    }
  ],
  "metadata": {
    "colab": {
      "name": "Colaboratory へようこそ",
      "provenance": [],
      "toc_visible": true
    },
    "kernelspec": {
      "display_name": "Python 3",
      "name": "python3"
    }
  },
  "nbformat": 4,
  "nbformat_minor": 0
}

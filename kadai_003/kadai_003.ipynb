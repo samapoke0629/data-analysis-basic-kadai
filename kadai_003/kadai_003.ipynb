{
  "cells": [
    {
      "cell_type": "code",
      "execution_count": null,
      "metadata": {
        "id": "feReK526-OIK"
      },
      "outputs": [],
      "source": [
        "import numpy as np\n",
        "\n",
        "matrix1 = np.array([[0, 1], [2, 3], [4, 5]])\n",
        "matrix2 = np.array([[0, 1, 2, 3], [4, 5, 6, 7]])\n",
        "\n",
        "# 行列の積を計算\n",
        "matrix_product = np.dot(matrix1, matrix2)\n",
        "print(\"行列の積:\")\n",
        "print(matrix_product)\n",
        "\n",
        "# 行列の要素の最大値を求める\n",
        "max_value = np.max(matrix_product)\n",
        "print(\"\\n行列の要素の最大値:\", max_value)"
      ]
    }
  ],
  "metadata": {
    "colab": {
      "name": "Colaboratory へようこそ",
      "provenance": [],
      "toc_visible": true
    },
    "kernelspec": {
      "display_name": "Python 3",
      "name": "python3"
    }
  },
  "nbformat": 4,
  "nbformat_minor": 0
}
